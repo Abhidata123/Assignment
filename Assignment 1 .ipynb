{
 "cells": [
  {
   "cell_type": "code",
   "execution_count": 2,
   "id": "51d7fa6c-f5b4-4ece-9bac-13ec1e396100",
   "metadata": {},
   "outputs": [],
   "source": [
    "# Ques 1.Who developed Python Programming Language ?"
   ]
  },
  {
   "cell_type": "code",
   "execution_count": 3,
   "id": "ed2c2979-ce3f-4eae-bd50-2256d7ccdc58",
   "metadata": {},
   "outputs": [],
   "source": [
    "#  Ans. Guido van Rossum"
   ]
  },
  {
   "cell_type": "code",
   "execution_count": 3,
   "id": "05673d3d-8e8d-429d-a587-881062cb86c1",
   "metadata": {},
   "outputs": [],
   "source": [
    "#  Ques 2. Which type of programming does python support"
   ]
  },
  {
   "cell_type": "code",
   "execution_count": 4,
   "id": "fee73408-965f-4a41-ad65-af0edb495033",
   "metadata": {},
   "outputs": [],
   "source": [
    "#  Ans. Python is an interpreted, interactive, object-oriented programming language. It incorporates modules, exceptions, dynamic typing,\n",
    "# very high level dynamic data types, and classes. It supports multiple programming paradigms beyond object-oriented programming, such as procedural and functional programming."
   ]
  },
  {
   "cell_type": "code",
   "execution_count": 5,
   "id": "f4d36a1e-fed4-426f-8c2e-1a32c1916fde",
   "metadata": {},
   "outputs": [],
   "source": [
    "# Ques 3. is python case sensitive when dealing with identifiers?"
   ]
  },
  {
   "cell_type": "code",
   "execution_count": 6,
   "id": "6346f19b-3dd2-4375-bdc2-f8c42da1d153",
   "metadata": {},
   "outputs": [],
   "source": [
    "### Ans Yes, Python is a case−sensitive programming language. This means that \n",
    "# it considers uppercase and lowercase letters differently."
   ]
  },
  {
   "cell_type": "code",
   "execution_count": 7,
   "id": "c5474483-3fce-4c49-9933-171fe0a54c17",
   "metadata": {},
   "outputs": [],
   "source": [
    "# Ques 4. What is the correct extension of python file."
   ]
  },
  {
   "cell_type": "code",
   "execution_count": 8,
   "id": "e51dfcee-eabd-4f46-a07e-f23c73130bce",
   "metadata": {},
   "outputs": [],
   "source": [
    "# Ans. pyc: This is the file extension for compiled Python code files. When a . py file is executed, the Python interpreter compiles the code to bytecode and saves it in a . pyc file \n",
    "# to improve performance on subsequent executions."
   ]
  },
  {
   "cell_type": "code",
   "execution_count": 9,
   "id": "936c3298-85d1-4d61-b39e-e2e95ad93f31",
   "metadata": {},
   "outputs": [],
   "source": [
    "# Ques 5. Is python code is complied or interpreted ?"
   ]
  },
  {
   "cell_type": "code",
   "execution_count": 10,
   "id": "2dcdb324-239c-4950-ba26-01bf7a016099",
   "metadata": {},
   "outputs": [],
   "source": [
    "# Ans. Python is an interpreted language, which means the source code of a Python program is converted into bytecode \n",
    "# that is then executed by the Python virtual machine."
   ]
  },
  {
   "cell_type": "code",
   "execution_count": 11,
   "id": "f4860bd6-0b82-4769-96b7-b099548d4464",
   "metadata": {},
   "outputs": [],
   "source": [
    "# Ques 6. Name a few blocks of code used to define in python language ?"
   ]
  },
  {
   "cell_type": "code",
   "execution_count": 12,
   "id": "20cf237c-6195-4c4e-ac67-78fda855ab79",
   "metadata": {},
   "outputs": [],
   "source": [
    "# Ans. The following are blocks: a module, a function body, and a class definition. Each command typed interactively is a block. A script file\n",
    "# (a file given as standard input to the interpreter or specified as a command line argument to the interpreter) is a code block."
   ]
  },
  {
   "cell_type": "code",
   "execution_count": 13,
   "id": "b9738af6-ddb4-4f89-92f6-e46d631b57cc",
   "metadata": {},
   "outputs": [],
   "source": [
    "# Ques 7. state a character used to give single-line comments in python ?"
   ]
  },
  {
   "cell_type": "code",
   "execution_count": 14,
   "id": "d281c8fe-f2e0-4110-9d3f-f8de020b8175",
   "metadata": {},
   "outputs": [],
   "source": [
    "# Ans. We can use the # character to write the comment in python."
   ]
  },
  {
   "cell_type": "code",
   "execution_count": 15,
   "id": "aeb64c63-1469-484f-942f-548962301e5d",
   "metadata": {},
   "outputs": [],
   "source": [
    "# Ques 8. Mention functions which can help us to find the version of python that we are currently working on ?"
   ]
  },
  {
   "cell_type": "code",
   "execution_count": 28,
   "id": "9e4306d3-68fa-4cb8-8390-2eb2633d23d0",
   "metadata": {},
   "outputs": [],
   "source": [
    "# The function sys. version can help us to find the version of python that we are currently working on.\n"
   ]
  },
  {
   "cell_type": "code",
   "execution_count": 27,
   "id": "2c428a9b-f681-47c6-a675-5bf0deaf0d90",
   "metadata": {},
   "outputs": [
    {
     "name": "stdout",
     "output_type": "stream",
     "text": [
      "User Current Version:- 3.10.8 | packaged by conda-forge | (main, Nov 22 2022, 08:26:04) [GCC 10.4.0]\n"
     ]
    }
   ],
   "source": [
    "import sys\n",
    "print(\"User Current Version:-\", sys.version)"
   ]
  },
  {
   "cell_type": "code",
   "execution_count": 30,
   "id": "c134d6e4-a045-4e49-b13c-2d095b459b51",
   "metadata": {},
   "outputs": [],
   "source": [
    "# Ques 9. python supports the creation of anonymous functions at runtime using a construct called ?"
   ]
  },
  {
   "cell_type": "code",
   "execution_count": 31,
   "id": "4b58893e-c32e-4ba3-9052-4ebe62691447",
   "metadata": {},
   "outputs": [],
   "source": [
    "# Ans. Python supports the creation of anonymous functions (i.e. functions that are not bound to a name) at runtime, using a construct called lambda."
   ]
  },
  {
   "cell_type": "code",
   "execution_count": 32,
   "id": "6b046caa-6c82-427a-9678-272c6e99065b",
   "metadata": {},
   "outputs": [],
   "source": [
    "# Ques 10. what does pip stand for python ?"
   ]
  },
  {
   "cell_type": "code",
   "execution_count": 33,
   "id": "6b8fe8dc-5c70-4c06-a80f-f7a513e8ed80",
   "metadata": {},
   "outputs": [],
   "source": [
    "# Ans. pip Install Packages"
   ]
  },
  {
   "cell_type": "code",
   "execution_count": 34,
   "id": "5510356c-180d-4ee8-acf2-b9effb5ebd4e",
   "metadata": {},
   "outputs": [],
   "source": [
    "# Ques 11. mention few built in functions in python ?"
   ]
  },
  {
   "cell_type": "code",
   "execution_count": 35,
   "id": "6766a809-8621-4c0f-a05f-51b01e9a71c4",
   "metadata": {},
   "outputs": [],
   "source": [
    "# Ans. bool()\tReturns the boolean value of the specified object\n",
    "#  complex()\tReturns a complex number\n",
    "# float()\tReturns a floating point number\n",
    "# help()\tExecutes the built-in help system\n"
   ]
  },
  {
   "cell_type": "code",
   "execution_count": 36,
   "id": "e09f9482-38c3-4b64-8ebf-20310115ab9d",
   "metadata": {},
   "outputs": [],
   "source": [
    "# Ques 12. what is the maximum length of a python identifier ?"
   ]
  },
  {
   "cell_type": "code",
   "execution_count": 37,
   "id": "9c1b7a50-ad10-4286-bff3-d44904ce5f2a",
   "metadata": {},
   "outputs": [],
   "source": [
    "# Ans. An identifier can have a maximum length of 79 characters in Python."
   ]
  },
  {
   "cell_type": "code",
   "execution_count": 39,
   "id": "42748c52-0d57-4fb7-b630-11018759c486",
   "metadata": {},
   "outputs": [],
   "source": [
    "# Ques 13. what are the benefits of using python ?"
   ]
  },
  {
   "cell_type": "code",
   "execution_count": 40,
   "id": "8f463ac6-3415-467e-9410-f66941f33772",
   "metadata": {},
   "outputs": [],
   "source": [
    "# Ans. Advantages of Python\n",
    "# Simple to Use and Understand. For newcomers, Python is simple to understand and use. ...\n",
    "# Free and Open-Source. Video Player is loading. ...\n",
    "# Productivity has Increased. ...\n",
    "# Interpreted Language. ...\n",
    "# Extensive library. ...\n",
    "# Dynamically Typed. ...\n",
    "# Portability. ...\n",
    "# Supportive community."
   ]
  },
  {
   "cell_type": "code",
   "execution_count": 41,
   "id": "ff9d7d95-d7e6-4e99-afa4-4b362619d848",
   "metadata": {},
   "outputs": [],
   "source": [
    "# Ques 14. How memory managed in python ?"
   ]
  },
  {
   "cell_type": "code",
   "execution_count": 42,
   "id": "15dbf25f-e91b-4f1d-b7a7-0de1e682f163",
   "metadata": {},
   "outputs": [],
   "source": [
    "# Ans. Memory management in Python involves a private heap containing all Python objects and data structures. \n",
    "# The management of this private heap is ensured internally by the Python memory manager."
   ]
  },
  {
   "cell_type": "code",
   "execution_count": 43,
   "id": "bc17dcbb-efa9-47db-a431-548390611e9a",
   "metadata": {},
   "outputs": [],
   "source": [
    "# Ques 15. how to install python on windows and set path variables ?"
   ]
  },
  {
   "cell_type": "code",
   "execution_count": 44,
   "id": "c2ffdc0d-8463-4713-a738-216da5eed5a4",
   "metadata": {},
   "outputs": [],
   "source": [
    "# Ans. steps to install python on window \n",
    "# Step 1: Select Version of Python to Install.\n",
    "#Step 2: Download Python Executable Installer.\n",
    "# Step 3: Run Executable Installer.\n",
    "# Step 4: Verify Python Was Installed On Windows.\n",
    "# Step 5: Verify Pip Was Installed.\n",
    "# Step 6: Add Python Path to Environment Variables (Optional)\n",
    " # Steps to set path variables.\n",
    "    # Step 1: Select Version of Python to Install.\n",
    "# Step 2: Download Python Executable Installer.\n",
    " # Step 3: Run Executable Installer.\n",
    "# Step 4: Verify Python Was Installed On Windows.\n",
    " # Step 5: Verify Pip Was Installed.\n",
    "# Step 6: Add Python Path to Environment Variables (Optional)\n"
   ]
  },
  {
   "cell_type": "code",
   "execution_count": 45,
   "id": "9f57be4a-5b68-4406-b15c-b1cbb7468ac0",
   "metadata": {},
   "outputs": [],
   "source": [
    "# Ques 16. is indentation required in python ?"
   ]
  },
  {
   "cell_type": "code",
   "execution_count": null,
   "id": "befae0ef-09f8-45f1-8125-54ed92e99647",
   "metadata": {},
   "outputs": [],
   "source": [
    "# Ans. Indentation is important to Python, because it's how you determine scope. \n",
    "# Scope is how Python knows what code belongs to what part of the program."
   ]
  }
 ],
 "metadata": {
  "kernelspec": {
   "display_name": "Python 3 (ipykernel)",
   "language": "python",
   "name": "python3"
  },
  "language_info": {
   "codemirror_mode": {
    "name": "ipython",
    "version": 3
   },
   "file_extension": ".py",
   "mimetype": "text/x-python",
   "name": "python",
   "nbconvert_exporter": "python",
   "pygments_lexer": "ipython3",
   "version": "3.10.8"
  }
 },
 "nbformat": 4,
 "nbformat_minor": 5
}
